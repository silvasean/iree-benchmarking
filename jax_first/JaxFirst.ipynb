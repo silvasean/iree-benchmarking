{
 "cells": [
  {
   "cell_type": "code",
   "execution_count": 13,
   "metadata": {},
   "outputs": [],
   "source": [
    "import jax\n",
    "import jax.numpy as jnp\n",
    "from jax import random\n",
    "from jax import grad, jit, vmap, make_jaxpr\n",
    "\n",
    "import numpy as np\n"
   ]
  },
  {
   "cell_type": "code",
   "execution_count": 14,
   "metadata": {},
   "outputs": [
    {
     "data": {
      "text/plain": [
       "Array([[ 0.690805  , -0.48744103, -1.155789  ],\n",
       "       [ 0.12108463,  1.2010182 , -0.5078766 ],\n",
       "       [ 0.91568655,  1.70968   , -0.36749417]], dtype=float32)"
      ]
     },
     "execution_count": 14,
     "metadata": {},
     "output_type": "execute_result"
    }
   ],
   "source": [
    "key = random.PRNGKey(1)\n",
    "normal = random.normal(key, (3, 3))\n",
    "normal"
   ]
  },
  {
   "cell_type": "code",
   "execution_count": 15,
   "metadata": {},
   "outputs": [],
   "source": [
    "def iterate(mat, n: int):\n",
    "    for i in range(n):\n",
    "        mat = jnp.dot(mat, mat.T)\n",
    "    return mat\n",
    "jit_iterate = jit(iterate, static_argnames=(\"n\",))"
   ]
  },
  {
   "cell_type": "code",
   "execution_count": 16,
   "metadata": {},
   "outputs": [],
   "source": [
    "mhlo_module = jit_iterate.lower(normal, 2).compiler_ir(dialect=\"mhlo\")\n"
   ]
  },
  {
   "cell_type": "code",
   "execution_count": 17,
   "metadata": {},
   "outputs": [],
   "source": [
    "from jaxlib.mlir.ir import StringAttr\n",
    "mhlo_module.operation.attributes[\"sym_name\"] = StringAttr.get(\"the_module\", mhlo_module.context)"
   ]
  },
  {
   "cell_type": "code",
   "execution_count": 18,
   "metadata": {},
   "outputs": [
    {
     "data": {
      "text/plain": [
       "'module @the_module {\\n  func.func public @main(%arg0: tensor<3x3xf32> {mhlo.sharding = \"\"}) -> tensor<3x3xf32> {\\n    %0 = \"mhlo.transpose\"(%arg0) {permutation = dense<[1, 0]> : tensor<2xi64>} : (tensor<3x3xf32>) -> tensor<3x3xf32>\\n    %1 = \"mhlo.dot_general\"(%arg0, %0) {dot_dimension_numbers = #mhlo.dot<lhs_contracting_dimensions = [1], rhs_contracting_dimensions = [0]>, precision_config = [#mhlo<precision DEFAULT>, #mhlo<precision DEFAULT>]} : (tensor<3x3xf32>, tensor<3x3xf32>) -> tensor<3x3xf32>\\n    %2 = \"mhlo.transpose\"(%1) {permutation = dense<[1, 0]> : tensor<2xi64>} : (tensor<3x3xf32>) -> tensor<3x3xf32>\\n    %3 = \"mhlo.dot_general\"(%1, %2) {dot_dimension_numbers = #mhlo.dot<lhs_contracting_dimensions = [1], rhs_contracting_dimensions = [0]>, precision_config = [#mhlo<precision DEFAULT>, #mhlo<precision DEFAULT>]} : (tensor<3x3xf32>, tensor<3x3xf32>) -> tensor<3x3xf32>\\n    return %3 : tensor<3x3xf32>\\n  }\\n}\\n'"
      ]
     },
     "execution_count": 18,
     "metadata": {},
     "output_type": "execute_result"
    }
   ],
   "source": [
    "mhlo_module.operation.get_asm()"
   ]
  },
  {
   "cell_type": "code",
   "execution_count": 19,
   "metadata": {},
   "outputs": [],
   "source": [
    "import iree.compiler as ireec\n",
    "import iree.runtime as ireert\n",
    "\n",
    "vmfb = ireec.compile_str(\n",
    "    mhlo_module.operation.get_asm(),\n",
    "    target_backends=[\"cuda\"],\n",
    "    input_type=\"mhlo\",\n",
    "    extra_args=[\n",
    "        \"--iree-hal-cuda-llvm-target-arch=sm_80\",\n",
    "        \"--iree-flow-dump-dispatch-graph\",\n",
    "        \"--iree-flow-dump-dispatch-graph-output-file=/tmp/attention_layer.dot\",\n",
    "    ],\n",
    ")"
   ]
  },
  {
   "cell_type": "code",
   "execution_count": 20,
   "metadata": {},
   "outputs": [],
   "source": [
    "config = ireert.Config(driver_name=\"cuda\")\n",
    "ctx = ireert.SystemContext(config=config)\n",
    "vm_module = ireert.VmModule.from_flatbuffer(ctx.instance, vmfb)\n",
    "ctx.add_vm_module(vm_module)\n",
    "module = ctx.modules.the_module"
   ]
  },
  {
   "cell_type": "code",
   "execution_count": 21,
   "metadata": {},
   "outputs": [
    {
     "data": {
      "text/plain": [
       "array([[ 4.262611  ,  0.84735847,  1.5321438 ],\n",
       "       [ 0.84735847,  8.47525   , 13.211212  ],\n",
       "       [ 1.5321438 , 13.211212  , 20.759777  ]], dtype=float32)"
      ]
     },
     "execution_count": 21,
     "metadata": {},
     "output_type": "execute_result"
    }
   ],
   "source": [
    "np.asarray(module[\"main\"](normal))"
   ]
  },
  {
   "cell_type": "code",
   "execution_count": 22,
   "metadata": {},
   "outputs": [
    {
     "name": "stdout",
     "output_type": "stream",
     "text": [
      "params = FrozenDict({\n",
      "    params: {\n",
      "        dense: {\n",
      "            bias: (8,),\n",
      "            kernel: (4, 8),\n",
      "        },\n",
      "        dense_1: {\n",
      "            bias: (1,),\n",
      "            kernel: (8, 1),\n",
      "        },\n",
      "    },\n",
      "})\n",
      "shape of output: (4, 5, 1)\n"
     ]
    },
    {
     "data": {
      "text/plain": [
       "Array(0., dtype=float32)"
      ]
     },
     "execution_count": 22,
     "metadata": {},
     "output_type": "execute_result"
    },
    {
     "ename": "",
     "evalue": "",
     "output_type": "error",
     "traceback": [
      "\u001b[1;31mThe Kernel crashed while executing code in the the current cell or a previous cell. Please review the code in the cell(s) to identify a possible cause of the failure. Click <a href='https://aka.ms/vscodeJupyterKernelCrash'>here</a> for more info. View Jupyter <a href='command:jupyter.viewOutput'>log</a> for further details."
     ]
    }
   ],
   "source": [
    "from flax import linen as nn\n",
    "\n",
    "class Net(nn.Module):\n",
    "    n_hidden: int = 4\n",
    "    @nn.compact\n",
    "    def __call__(self, x):\n",
    "        x = nn.Dense(features=self.n_hidden, name=\"dense\")(x)\n",
    "        x = nn.relu(x)\n",
    "        x = nn.Dense(features=1, name=\"dense_1\")(x)\n",
    "        return x\n",
    "\n",
    "key = jax.random.PRNGKey(3)\n",
    "model = Net(n_hidden=8)\n",
    "vars = model.init(key, jnp.ones((4,)))\n",
    "\n",
    "key, input_key = jax.random.split(key)\n",
    "inputs = jax.random.normal(input_key, (4, 5, 4))\n",
    "print(\"params =\", jax.tree_map(jnp.shape, vars))\n",
    "\n",
    "print(\"shape of output:\", model.apply(vars, inputs).shape)\n",
    "\n",
    "# Cool: `model` does not carry any state, so you can just recreate it.\n",
    "# Differences are exactly zero:\n",
    "jnp.max(Net(n_hidden=8).apply(vars, inputs) - Net(n_hidden=8).apply(vars, inputs))"
   ]
  },
  {
   "cell_type": "code",
   "execution_count": null,
   "metadata": {},
   "outputs": [],
   "source": []
  }
 ],
 "metadata": {
  "kernelspec": {
   "display_name": "jax_first.venv",
   "language": "python",
   "name": "python3"
  },
  "language_info": {
   "codemirror_mode": {
    "name": "ipython",
    "version": 3
   },
   "file_extension": ".py",
   "mimetype": "text/x-python",
   "name": "python",
   "nbconvert_exporter": "python",
   "pygments_lexer": "ipython3",
   "version": "3.10.6"
  },
  "orig_nbformat": 4,
  "vscode": {
   "interpreter": {
    "hash": "c8af939ba16b16d872a941b16c1b1571b0ad92163a325186ef05560aa74360dd"
   }
  }
 },
 "nbformat": 4,
 "nbformat_minor": 2
}
